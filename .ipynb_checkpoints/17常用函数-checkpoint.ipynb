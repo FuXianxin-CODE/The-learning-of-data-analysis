{
 "cells": [
  {
   "cell_type": "code",
   "execution_count": 1,
   "id": "abb04358",
   "metadata": {},
   "outputs": [],
   "source": [
    "import numpy as np"
   ]
  },
  {
   "cell_type": "code",
   "execution_count": 2,
   "id": "3835c755",
   "metadata": {},
   "outputs": [
    {
     "data": {
      "text/plain": [
       "array([[ 3.63867924,  3.76832779, -6.90939562,  5.7760455 , -8.35116146],\n",
       "       [-7.75165025, -8.27888721,  1.67739892, -2.92014507, -9.24923023],\n",
       "       [ 1.00868034, -1.35565668,  5.15742398, -6.20189702, -8.04732586]])"
      ]
     },
     "execution_count": 2,
     "metadata": {},
     "output_type": "execute_result"
    }
   ],
   "source": [
    "a = np.random.uniform(-10,10,size=(3,5))\n",
    "a"
   ]
  },
  {
   "cell_type": "code",
   "execution_count": 3,
   "id": "497eb1ab",
   "metadata": {},
   "outputs": [
    {
     "data": {
      "text/plain": [
       "array([[3.63867924, 3.76832779, 6.90939562, 5.7760455 , 8.35116146],\n",
       "       [7.75165025, 8.27888721, 1.67739892, 2.92014507, 9.24923023],\n",
       "       [1.00868034, 1.35565668, 5.15742398, 6.20189702, 8.04732586]])"
      ]
     },
     "execution_count": 3,
     "metadata": {},
     "output_type": "execute_result"
    }
   ],
   "source": [
    "# 1.np.abs 绝对值\n",
    "np.abs(a)"
   ]
  },
  {
   "cell_type": "code",
   "execution_count": 4,
   "id": "6054e773",
   "metadata": {},
   "outputs": [
    {
     "name": "stderr",
     "output_type": "stream",
     "text": [
      "C:\\Users\\winlab\\AppData\\Local\\Temp/ipykernel_7732/1363791611.py:2: RuntimeWarning: invalid value encountered in sqrt\n",
      "  np.sqrt(a)\n"
     ]
    },
    {
     "data": {
      "text/plain": [
       "array([[1.90753224, 1.94121812,        nan, 2.40334049,        nan],\n",
       "       [       nan,        nan, 1.29514436,        nan,        nan],\n",
       "       [1.00433079,        nan, 2.27099625,        nan,        nan]])"
      ]
     },
     "execution_count": 4,
     "metadata": {},
     "output_type": "execute_result"
    }
   ],
   "source": [
    "# 2.np.sqrt 开根\n",
    "np.sqrt(a)"
   ]
  },
  {
   "cell_type": "code",
   "execution_count": 5,
   "id": "5b0e8caf",
   "metadata": {},
   "outputs": [
    {
     "data": {
      "text/plain": [
       "array([[13.23998662, 14.20029436, 47.73974783, 33.36270156, 69.74189771],\n",
       "       [60.08808166, 68.53997343,  2.81366715,  8.52724722, 85.54825989],\n",
       "       [ 1.01743602,  1.83780505, 26.59902209, 38.46352661, 64.7594535 ]])"
      ]
     },
     "execution_count": 5,
     "metadata": {},
     "output_type": "execute_result"
    }
   ],
   "source": [
    "# 3.np.square 平方\n",
    "np.square(a)"
   ]
  },
  {
   "cell_type": "code",
   "execution_count": 7,
   "id": "dddb8fc2",
   "metadata": {},
   "outputs": [
    {
     "data": {
      "text/plain": [
       "array([[3.80415598e+01, 4.33075850e+01, 9.98361004e-04, 3.22481411e+02,\n",
       "        2.36122113e-04],\n",
       "       [4.30032292e-04, 2.53819491e-04, 5.35161789e+00, 5.39258638e-02,\n",
       "        9.61856642e-05],\n",
       "       [2.74198014e+00, 2.57777960e-01, 1.73716381e+02, 2.02558442e-03,\n",
       "        3.19956388e-04]])"
      ]
     },
     "execution_count": 7,
     "metadata": {},
     "output_type": "execute_result"
    }
   ],
   "source": [
    "# 4.np.exp 计算指数\n",
    "np.exp(a)"
   ]
  },
  {
   "cell_type": "code",
   "execution_count": 8,
   "id": "74cbd6d4",
   "metadata": {},
   "outputs": [
    {
     "name": "stderr",
     "output_type": "stream",
     "text": [
      "C:\\Users\\winlab\\AppData\\Local\\Temp/ipykernel_7732/2307381907.py:2: RuntimeWarning: invalid value encountered in log\n",
      "  np.log(a)\n"
     ]
    },
    {
     "data": {
      "text/plain": [
       "array([[1.29162077, 1.32663135,        nan, 1.75371928,        nan],\n",
       "       [       nan,        nan, 0.51724433,        nan,        nan],\n",
       "       [0.00864288,        nan, 1.64043723,        nan,        nan]])"
      ]
     },
     "execution_count": 8,
     "metadata": {},
     "output_type": "execute_result"
    }
   ],
   "source": [
    "# 5.np.log 求以e为底的对数\n",
    "np.log(a)"
   ]
  },
  {
   "cell_type": "code",
   "execution_count": 9,
   "id": "c0ff7afe",
   "metadata": {},
   "outputs": [
    {
     "data": {
      "text/plain": [
       "array([[ 1.,  1., -1.,  1., -1.],\n",
       "       [-1., -1.,  1., -1., -1.],\n",
       "       [ 1., -1.,  1., -1., -1.]])"
      ]
     },
     "execution_count": 9,
     "metadata": {},
     "output_type": "execute_result"
    }
   ],
   "source": [
    "# 6.np.sign 将大于0的数变为1，等于0的变为0，小于0的变成-1\n",
    "np.sign(a)"
   ]
  },
  {
   "cell_type": "code",
   "execution_count": 10,
   "id": "ea510406",
   "metadata": {},
   "outputs": [
    {
     "data": {
      "text/plain": [
       "array([[ 4.,  4., -6.,  6., -8.],\n",
       "       [-7., -8.,  2., -2., -9.],\n",
       "       [ 2., -1.,  6., -6., -8.]])"
      ]
     },
     "execution_count": 10,
     "metadata": {},
     "output_type": "execute_result"
    }
   ],
   "source": [
    "# 7.np.ceil 朝着无穷大的方向取整，比如5.1会变成6，-6.3会变成-6\n",
    "np.ceil(a)"
   ]
  },
  {
   "cell_type": "code",
   "execution_count": 11,
   "id": "13ed976a",
   "metadata": {},
   "outputs": [
    {
     "data": {
      "text/plain": [
       "array([[  3.,   3.,  -7.,   5.,  -9.],\n",
       "       [ -8.,  -9.,   1.,  -3., -10.],\n",
       "       [  1.,  -2.,   5.,  -7.,  -9.]])"
      ]
     },
     "execution_count": 11,
     "metadata": {},
     "output_type": "execute_result"
    }
   ],
   "source": [
    "# 8.np.floor 朝着负无穷方向取整 比如5.1会变成5，-6.3会变成-7\n",
    "np.floor(a)"
   ]
  },
  {
   "cell_type": "code",
   "execution_count": 12,
   "id": "792116d7",
   "metadata": {},
   "outputs": [
    {
     "data": {
      "text/plain": [
       "array([[ 4.,  4., -7.,  6., -8.],\n",
       "       [-8., -8.,  2., -3., -9.],\n",
       "       [ 1., -1.,  5., -6., -8.]])"
      ]
     },
     "execution_count": 12,
     "metadata": {},
     "output_type": "execute_result"
    }
   ],
   "source": [
    "# 9.np.rint或者np.round\n",
    "np.rint(a)"
   ]
  },
  {
   "cell_type": "code",
   "execution_count": 13,
   "id": "87a3adf3",
   "metadata": {},
   "outputs": [
    {
     "name": "stdout",
     "output_type": "stream",
     "text": [
      "[[ 0.63867924  0.76832779 -0.90939562  0.7760455  -0.35116146]\n",
      " [-0.75165025 -0.27888721  0.67739892 -0.92014507 -0.24923023]\n",
      " [ 0.00868034 -0.35565668  0.15742398 -0.20189702 -0.04732586]]\n",
      "[[ 3.  3. -6.  5. -8.]\n",
      " [-7. -8.  1. -2. -9.]\n",
      " [ 1. -1.  5. -6. -8.]]\n"
     ]
    }
   ],
   "source": [
    "# 10.np.modf 将整数和小数分隔开形成两个数组\n",
    "print(np.modf(a)[0])\n",
    "print(np.modf(a)[1])"
   ]
  },
  {
   "cell_type": "code",
   "execution_count": 14,
   "id": "ec802672",
   "metadata": {},
   "outputs": [
    {
     "data": {
      "text/plain": [
       "array([[-0.47686675, -0.58650353, -0.58607836, -0.48567904, -0.87893113],\n",
       "       [-0.99476871, -0.91107766,  0.99432332, -0.21964209, -0.17464747],\n",
       "       [ 0.84612923, -0.97694659, -0.9025956 ,  0.0811988 , -0.98136716]])"
      ]
     },
     "execution_count": 14,
     "metadata": {},
     "output_type": "execute_result"
    }
   ],
   "source": [
    "# 11.np.sin 三角函数\n",
    "np.sin(a)"
   ]
  },
  {
   "cell_type": "code",
   "execution_count": 15,
   "id": "ab0f2a3f",
   "metadata": {},
   "outputs": [
    {
     "data": {
      "text/plain": [
       "array([[ 4.63867924,  4.76832779, -5.90939562,  6.7760455 , -7.35116146],\n",
       "       [-6.75165025, -7.27888721,  2.67739892, -1.92014507, -8.24923023],\n",
       "       [ 2.00868034, -0.35565668,  6.15742398, -5.20189702, -7.04732586]])"
      ]
     },
     "execution_count": 15,
     "metadata": {},
     "output_type": "execute_result"
    }
   ],
   "source": [
    "a+1"
   ]
  },
  {
   "attachments": {
    "image.png": {
     "image/png": "[encoded data removed]"
    }
   },
   "cell_type": "markdown",
   "id": "b29bc725",
   "metadata": {},
   "source": [
    "![image.png](attachment:image.png)"
   ]
  },
  {
   "cell_type": "code",
   "execution_count": 16,
   "id": "b600102e",
   "metadata": {},
   "outputs": [
    {
     "data": {
      "text/plain": [
       "array([[ 7.63867924,  7.76832779, -2.90939562,  9.7760455 , -4.35116146],\n",
       "       [-4.75165025, -5.27888721,  4.67739892,  0.07985493, -6.24923023],\n",
       "       [ 5.00868034,  2.64434332,  9.15742398, -2.20189702, -4.04732586]])"
      ]
     },
     "execution_count": 16,
     "metadata": {},
     "output_type": "execute_result"
    }
   ],
   "source": [
    "np.add(a,np.random.randint(0,5,size=(3,1)))"
   ]
  },
  {
   "cell_type": "code",
   "execution_count": 18,
   "id": "7e90a15f",
   "metadata": {},
   "outputs": [
    {
     "data": {
      "text/plain": [
       "array([3.63867924, 3.76832779, 5.7760455 , 1.67739892, 1.00868034,\n",
       "       5.15742398])"
      ]
     },
     "execution_count": 18,
     "metadata": {},
     "output_type": "execute_result"
    }
   ],
   "source": [
    "# a[a>0]\n",
    "a[np.greater(a,0)]"
   ]
  },
  {
   "cell_type": "code",
   "execution_count": 19,
   "id": "928815f3",
   "metadata": {},
   "outputs": [
    {
     "data": {
      "text/plain": [
       "array([3.63867924, 3.76832779, 1.67739892, 1.00868034])"
      ]
     },
     "execution_count": 19,
     "metadata": {},
     "output_type": "execute_result"
    }
   ],
   "source": [
    "# a[(a>0)&(a<5)]\n",
    "a[np.logical_and(a>0,a<5)]"
   ]
  },
  {
   "cell_type": "code",
   "execution_count": 22,
   "id": "3b285038",
   "metadata": {},
   "outputs": [
    {
     "data": {
      "text/plain": [
       "array([-6.90939562,  5.7760455 , -8.35116146, -7.75165025, -8.27888721,\n",
       "       -2.92014507, -9.24923023, -1.35565668,  5.15742398, -6.20189702,\n",
       "       -8.04732586])"
      ]
     },
     "execution_count": 22,
     "metadata": {},
     "output_type": "execute_result"
    }
   ],
   "source": [
    "a[(a>5)|(a<0)]\n",
    "a[np.logical_or(a>5,a<0)]"
   ]
  },
  {
   "cell_type": "markdown",
   "id": "1a463500",
   "metadata": {},
   "source": [
    "# 聚合函数"
   ]
  },
  {
   "attachments": {
    "image.png": {
     "image/png": "[encoded data removed]"
    }
   },
   "cell_type": "markdown",
   "id": "b2ee4afd",
   "metadata": {},
   "source": [
    "![image.png](attachment:image.png)"
   ]
  },
  {
   "cell_type": "code",
   "execution_count": 23,
   "id": "90efea27",
   "metadata": {},
   "outputs": [
    {
     "name": "stdout",
     "output_type": "stream",
     "text": [
      "[[ 3.63867924  3.76832779 -6.90939562  5.7760455  -8.35116146]\n",
      " [-7.75165025 -8.27888721  1.67739892 -2.92014507 -9.24923023]\n",
      " [ 1.00868034 -1.35565668  5.15742398 -6.20189702 -8.04732586]]\n"
     ]
    },
    {
     "data": {
      "text/plain": [
       "array([ -3.10429068,  -5.8662161 ,  -0.07457272,  -3.34599659,\n",
       "       -25.64771755])"
      ]
     },
     "execution_count": 23,
     "metadata": {},
     "output_type": "execute_result"
    }
   ],
   "source": [
    "# 1.sum\n",
    "print(a)\n",
    "np.sum(a,axis=0)"
   ]
  },
  {
   "cell_type": "code",
   "execution_count": 24,
   "id": "cf8ec7b5",
   "metadata": {},
   "outputs": [
    {
     "data": {
      "text/plain": [
       "array([ -28.45060442,   42.2931818 ,  -59.77357832,  104.6067195 ,\n",
       "       -621.59005562])"
      ]
     },
     "execution_count": 24,
     "metadata": {},
     "output_type": "execute_result"
    }
   ],
   "source": [
    "# 2.prod 计算元素的积\n",
    "np.prod(a,axis=0)"
   ]
  },
  {
   "cell_type": "code",
   "execution_count": 26,
   "id": "6fcb1eff",
   "metadata": {},
   "outputs": [
    {
     "data": {
      "text/plain": [
       "array([-1.03476356, -1.95540537, -0.02485757, -1.1153322 , -8.54923918])"
      ]
     },
     "execution_count": 26,
     "metadata": {},
     "output_type": "execute_result"
    }
   ],
   "source": [
    "# 3.mean 计算元素的平均值\n",
    "np.mean(a,axis=0)"
   ]
  },
  {
   "cell_type": "code",
   "execution_count": 27,
   "id": "0f173caf",
   "metadata": {},
   "outputs": [
    {
     "data": {
      "text/plain": [
       "array([4.86940439, 4.93650492, 5.07117946, 5.05376354, 0.51027419])"
      ]
     },
     "execution_count": 27,
     "metadata": {},
     "output_type": "execute_result"
    }
   ],
   "source": [
    "# 4.std 计算元素的标准差\n",
    "np.std(a,axis=0)"
   ]
  },
  {
   "cell_type": "code",
   "execution_count": 28,
   "id": "e98eaf27",
   "metadata": {},
   "outputs": [
    {
     "name": "stdout",
     "output_type": "stream",
     "text": [
      "[[ 3.63867924  3.76832779 -6.90939562  5.7760455  -8.35116146]\n",
      " [-7.75165025 -8.27888721  1.67739892 -2.92014507 -9.24923023]\n",
      " [ 1.00868034 -1.35565668  5.15742398 -6.20189702 -8.04732586]]\n",
      "[-7.75165025 -8.27888721 -6.90939562 -6.20189702 -9.24923023]\n",
      "[1 1 0 2 1]\n"
     ]
    }
   ],
   "source": [
    "# 5.min 求元素的最小值 argmin找出最小值的索引\n",
    "print(a)\n",
    "print(np.min(a,axis=0))\n",
    "print(np.argmin(a,axis=0))"
   ]
  },
  {
   "cell_type": "code",
   "execution_count": 29,
   "id": "6de8727f",
   "metadata": {},
   "outputs": [
    {
     "data": {
      "text/plain": [
       "-2.920145067491622"
      ]
     },
     "execution_count": 29,
     "metadata": {},
     "output_type": "execute_result"
    }
   ],
   "source": [
    "# 6.median 计算元素的中位数\n",
    "np.median(a)"
   ]
  },
  {
   "cell_type": "markdown",
   "id": "c92684a5",
   "metadata": {},
   "source": [
    "%time 将会给出当前行的代码运行一次所花费的时间   \n",
    "%%time 将会给出cell的代码运行一次所花费的时间"
   ]
  },
  {
   "cell_type": "code",
   "execution_count": 30,
   "id": "4934e0f3",
   "metadata": {},
   "outputs": [
    {
     "name": "stdout",
     "output_type": "stream",
     "text": [
      "Wall time: 98.4 ms\n"
     ]
    },
    {
     "name": "stderr",
     "output_type": "stream",
     "text": [
      "<timed eval>:1: RuntimeWarning: overflow encountered in long_scalars\n"
     ]
    },
    {
     "data": {
      "text/plain": [
       "1783293664"
      ]
     },
     "execution_count": 30,
     "metadata": {},
     "output_type": "execute_result"
    }
   ],
   "source": [
    "# 验证python内置的sum函数效率没有np.sum高\n",
    "%time sum(np.arange(1000000))"
   ]
  },
  {
   "cell_type": "code",
   "execution_count": 31,
   "id": "970b0e42",
   "metadata": {},
   "outputs": [
    {
     "name": "stdout",
     "output_type": "stream",
     "text": [
      "Wall time: 2.99 ms\n"
     ]
    },
    {
     "data": {
      "text/plain": [
       "1783293664"
      ]
     },
     "execution_count": 31,
     "metadata": {},
     "output_type": "execute_result"
    }
   ],
   "source": [
    "%time np.sum(np.arange(1000000))"
   ]
  },
  {
   "cell_type": "markdown",
   "id": "ce8ae655",
   "metadata": {},
   "source": [
    "# 布尔判断函数"
   ]
  },
  {
   "cell_type": "markdown",
   "id": "9382b2e3",
   "metadata": {},
   "source": [
    "np.any 验证任何一个元素是否为真  \n",
    "np.all 验证所有元素是否为真"
   ]
  },
  {
   "cell_type": "code",
   "execution_count": 32,
   "id": "a747c59b",
   "metadata": {},
   "outputs": [
    {
     "name": "stdout",
     "output_type": "stream",
     "text": [
      "[[ 3.63867924  3.76832779 -6.90939562  5.7760455  -8.35116146]\n",
      " [-7.75165025 -8.27888721  1.67739892 -2.92014507 -9.24923023]\n",
      " [ 1.00868034 -1.35565668  5.15742398 -6.20189702 -8.04732586]]\n"
     ]
    },
    {
     "data": {
      "text/plain": [
       "False"
      ]
     },
     "execution_count": 32,
     "metadata": {},
     "output_type": "execute_result"
    }
   ],
   "source": [
    "print(a)\n",
    "np.all(a==0)"
   ]
  },
  {
   "cell_type": "code",
   "execution_count": 33,
   "id": "fd585cb7",
   "metadata": {},
   "outputs": [
    {
     "data": {
      "text/plain": [
       "True"
      ]
     },
     "execution_count": 33,
     "metadata": {},
     "output_type": "execute_result"
    }
   ],
   "source": [
    "np.any(a>0)"
   ]
  },
  {
   "cell_type": "code",
   "execution_count": 34,
   "id": "cd09366f",
   "metadata": {},
   "outputs": [
    {
     "data": {
      "text/plain": [
       "False"
      ]
     },
     "execution_count": 34,
     "metadata": {},
     "output_type": "execute_result"
    }
   ],
   "source": [
    "np.all(a>0)"
   ]
  },
  {
   "cell_type": "markdown",
   "id": "37b2de56",
   "metadata": {},
   "source": [
    "# 排序"
   ]
  },
  {
   "cell_type": "code",
   "execution_count": 35,
   "id": "1d93800f",
   "metadata": {},
   "outputs": [
    {
     "data": {
      "text/plain": [
       "array([[-7.75165025, -8.27888721, -6.90939562, -6.20189702, -9.24923023],\n",
       "       [ 1.00868034, -1.35565668,  1.67739892, -2.92014507, -8.35116146],\n",
       "       [ 3.63867924,  3.76832779,  5.15742398,  5.7760455 , -8.04732586]])"
      ]
     },
     "execution_count": 35,
     "metadata": {},
     "output_type": "execute_result"
    }
   ],
   "source": [
    "# 1.sort按指定轴进行排序\n",
    "np.sort(a,axis=0)"
   ]
  },
  {
   "cell_type": "code",
   "execution_count": 36,
   "id": "040b4950",
   "metadata": {},
   "outputs": [
    {
     "data": {
      "text/plain": [
       "array([[0, 2, 2, 0, 6],\n",
       "       [5, 1, 3, 7, 4],\n",
       "       [4, 2, 6, 9, 8]])"
      ]
     },
     "execution_count": 36,
     "metadata": {},
     "output_type": "execute_result"
    }
   ],
   "source": [
    "b = np.random.randint(0,10,size=(3,5))\n",
    "b"
   ]
  },
  {
   "cell_type": "code",
   "execution_count": 37,
   "id": "e1eda624",
   "metadata": {},
   "outputs": [],
   "source": [
    "b.sort()"
   ]
  },
  {
   "cell_type": "code",
   "execution_count": 38,
   "id": "92f265aa",
   "metadata": {},
   "outputs": [
    {
     "data": {
      "text/plain": [
       "array([[0, 0, 2, 2, 6],\n",
       "       [1, 3, 4, 5, 7],\n",
       "       [2, 4, 6, 8, 9]])"
      ]
     },
     "execution_count": 38,
     "metadata": {},
     "output_type": "execute_result"
    }
   ],
   "source": [
    "b"
   ]
  },
  {
   "cell_type": "code",
   "execution_count": 40,
   "id": "9f4b8aba",
   "metadata": {},
   "outputs": [
    {
     "data": {
      "text/plain": [
       "array([[1, 1, 0, 2, 1],\n",
       "       [2, 2, 1, 1, 0],\n",
       "       [0, 0, 2, 0, 2]], dtype=int64)"
      ]
     },
     "execution_count": 40,
     "metadata": {},
     "output_type": "execute_result"
    }
   ],
   "source": [
    "# 2.argsort返回排序后的下标值\n",
    "np.argsort(a,axis=0)"
   ]
  },
  {
   "cell_type": "code",
   "execution_count": 42,
   "id": "462dfdb9",
   "metadata": {},
   "outputs": [
    {
     "name": "stdout",
     "output_type": "stream",
     "text": [
      "[[ 3.63867924  3.76832779 -6.90939562  5.7760455  -8.35116146]\n",
      " [-7.75165025 -8.27888721  1.67739892 -2.92014507 -9.24923023]\n",
      " [ 1.00868034 -1.35565668  5.15742398 -6.20189702 -8.04732586]]\n",
      "[[ 5.7760455   3.76832779  3.63867924 -6.90939562 -8.35116146]\n",
      " [ 1.67739892 -2.92014507 -7.75165025 -8.27888721 -9.24923023]\n",
      " [ 5.15742398  1.00868034 -1.35565668 -6.20189702 -8.04732586]]\n"
     ]
    },
    {
     "data": {
      "text/plain": [
       "array([[ 5.7760455 ,  3.76832779,  3.63867924, -6.90939562, -8.35116146],\n",
       "       [-6.90939562,  5.7760455 ,  3.63867924,  3.76832779, -8.35116146],\n",
       "       [-6.90939562,  3.63867924,  3.76832779,  5.7760455 , -8.35116146]])"
      ]
     },
     "execution_count": 42,
     "metadata": {},
     "output_type": "execute_result"
    }
   ],
   "source": [
    "# 3.降序排序，np.sort默认采用升序排序，降序可用以下方法\n",
    "# 使用负号\n",
    "print(a)\n",
    "-np.sort(-a)\n",
    "print(-np.sort(-a))\n",
    "\n",
    "# 使用sort和argsort以及take\n",
    "indexes = np.argsort(-a)\n",
    "np.take(a,indexes)"
   ]
  },
  {
   "cell_type": "markdown",
   "id": "e3d52155",
   "metadata": {},
   "source": [
    "# 其它函数补充："
   ]
  },
  {
   "cell_type": "code",
   "execution_count": 43,
   "id": "4393a5dc",
   "metadata": {},
   "outputs": [
    {
     "data": {
      "text/plain": [
       "array([[31, 46, 89, 39, 73, 11, 65, 86, 91, 67, 67, 35, 52, 53, 79, 85,\n",
       "        93, 72, 74, 61],\n",
       "       [32, 68, 16, 53, 61, 13, 87, 57, 36, 37, 72, 37, 85,  9, 37, 69,\n",
       "        69, 76, 14, 89],\n",
       "       [79, 13, 20, 36, 88, 11, 10, 33, 17, 31, 80, 43, 79, 69,  6, 29,\n",
       "        43, 88, 25, 94]])"
      ]
     },
     "execution_count": 43,
     "metadata": {},
     "output_type": "execute_result"
    }
   ],
   "source": [
    "# 1.apply_along_axis:沿着某个轴执行指定的函数\n",
    "# 将数组每行去掉最大值和最小值后求平均值\n",
    "c = np.random.randint(0,100,size=(3,20))\n",
    "c"
   ]
  },
  {
   "cell_type": "code",
   "execution_count": 47,
   "id": "992b533a",
   "metadata": {},
   "outputs": [
    {
     "name": "stderr",
     "output_type": "stream",
     "text": [
      "C:\\Users\\winlab\\AppData\\Local\\Temp/ipykernel_7732/3081937447.py:5: RuntimeWarning: Mean of empty slice.\n",
      "  np.apply_along_axis(lambda x:x[np.logical_and(x!=x.max(),x!=x.min())].mean(),axis=0,arr=c)\n",
      "c:\\users\\winlab\\appdata\\local\\programs\\python\\python38\\lib\\site-packages\\numpy\\core\\_methods.py:189: RuntimeWarning: invalid value encountered in double_scalars\n",
      "  ret = ret.dtype.type(ret / rcount)\n"
     ]
    },
    {
     "data": {
      "text/plain": [
       "array([32., 46., 20., 39., 73., nan, 65., 57., 36., 37., 72., 37., 79.,\n",
       "       53., 37., 69., 69., 76., 25., 89.])"
      ]
     },
     "execution_count": 47,
     "metadata": {},
     "output_type": "execute_result"
    }
   ],
   "source": [
    "# def get_mean(x):\n",
    "#     y = x[np.logical_and(x!=x.max(),x!=x.min())].mean()\n",
    "#     return y\n",
    "# np.apply_along_axis(get_mean,axis=0,arr=c)\n",
    "np.apply_along_axis(lambda x:x[np.logical_and(x!=x.max(),x!=x.min())].mean(),axis=0,arr=c)"
   ]
  },
  {
   "cell_type": "code",
   "execution_count": 48,
   "id": "91d165df",
   "metadata": {},
   "outputs": [
    {
     "data": {
      "text/plain": [
       "array([0.        , 0.09090909, 0.18181818, 0.27272727, 0.36363636,\n",
       "       0.45454545, 0.54545455, 0.63636364, 0.72727273, 0.81818182,\n",
       "       0.90909091, 1.        ])"
      ]
     },
     "execution_count": 48,
     "metadata": {},
     "output_type": "execute_result"
    }
   ],
   "source": [
    "# 2.linespace:用来将指定区间平均分成多少份\n",
    "np.linspace(0,1,12)"
   ]
  },
  {
   "cell_type": "code",
   "execution_count": 49,
   "id": "0df6b1a8",
   "metadata": {},
   "outputs": [
    {
     "data": {
      "text/plain": [
       "array([[7, 0, 2, 4, 0],\n",
       "       [8, 6, 7, 5, 4],\n",
       "       [5, 0, 1, 5, 1]])"
      ]
     },
     "execution_count": 49,
     "metadata": {},
     "output_type": "execute_result"
    }
   ],
   "source": [
    "# 3.np.unique:返回数组中的唯一值\n",
    "d = np.random.randint(0,10,size=(3,5))\n",
    "d"
   ]
  },
  {
   "cell_type": "code",
   "execution_count": 52,
   "id": "a7c46d44",
   "metadata": {},
   "outputs": [
    {
     "data": {
      "text/plain": [
       "(array([0, 1, 2, 4, 5, 6, 7, 8]), array([3, 2, 1, 2, 3, 1, 2, 1], dtype=int64))"
      ]
     },
     "execution_count": 52,
     "metadata": {},
     "output_type": "execute_result"
    }
   ],
   "source": [
    "np.unique(d)\n",
    "np.unique(d,return_counts=True)"
   ]
  }
 ],
 "metadata": {
  "kernelspec": {
   "display_name": "Python 3 (ipykernel)",
   "language": "python",
   "name": "python3"
  },
  "language_info": {
   "codemirror_mode": {
    "name": "ipython",
    "version": 3
   },
   "file_extension": ".py",
   "mimetype": "text/x-python",
   "name": "python",
   "nbconvert_exporter": "python",
   "pygments_lexer": "ipython3",
   "version": "3.8.10"
  }
 },
 "nbformat": 4,
 "nbformat_minor": 5
}
