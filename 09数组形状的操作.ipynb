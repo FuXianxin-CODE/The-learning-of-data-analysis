{
 "cells": [
  {
   "cell_type": "markdown",
   "id": "b2682a8f",
   "metadata": {},
   "source": [
    "reshape和resize方法，两个方法都是用来修改数组形状的，但是有一些不同。"
   ]
  },
  {
   "cell_type": "code",
   "execution_count": 1,
   "id": "e7c45a8e",
   "metadata": {},
   "outputs": [],
   "source": [
    "import numpy as np"
   ]
  },
  {
   "cell_type": "code",
   "execution_count": 2,
   "id": "cd88ba26",
   "metadata": {},
   "outputs": [
    {
     "name": "stdout",
     "output_type": "stream",
     "text": [
      "[[3 5 5 7]\n",
      " [9 7 9 3]\n",
      " [6 5 5 0]]\n",
      "[[3 5 5 7]\n",
      " [9 7 9 3]\n",
      " [6 5 5 0]]\n",
      "[[3 5 5 7 9 7]\n",
      " [9 3 6 5 5 0]]\n"
     ]
    }
   ],
   "source": [
    "# 1.reshape是将数组转换成指定的形状，然后返回转换后的结果\n",
    "# 对于原数组的形状是不会发生改变的\n",
    "a1 = np.random.randint(0,10,size=(3,4))\n",
    "print(a1)\n",
    "a2 = a1.reshape((2,6))\n",
    "print(a1)\n",
    "print(a2)"
   ]
  },
  {
   "cell_type": "code",
   "execution_count": 3,
   "id": "db31c1eb",
   "metadata": {},
   "outputs": [
    {
     "name": "stdout",
     "output_type": "stream",
     "text": [
      "[[1 3 3 1]\n",
      " [1 2 8 3]\n",
      " [6 7 9 8]]\n",
      "[[1 3 3 1 1 2]\n",
      " [8 3 6 7 9 8]]\n",
      "None\n"
     ]
    }
   ],
   "source": [
    "# resize是将数组转换成指定的形状，会直接修改数组本身，并不会返回任何值\n",
    "a1 = np.random.randint(0,10,size=(3,4))\n",
    "print(a1)\n",
    "a2 = a1.resize((2,6))\n",
    "print(a1)\n",
    "print(a2)"
   ]
  },
  {
   "cell_type": "markdown",
   "id": "00e61e68",
   "metadata": {},
   "source": [
    "flatten和ravel方法都是将多维数组转换为一维数组，但是有以下不同"
   ]
  },
  {
   "cell_type": "code",
   "execution_count": 4,
   "id": "0a9cb289",
   "metadata": {},
   "outputs": [
    {
     "name": "stdout",
     "output_type": "stream",
     "text": [
      "[[8 3 6 1]\n",
      " [8 6 9 7]\n",
      " [6 6 2 0]]\n",
      "[8 3 6 1 8 6 9 7 6 6 2 0]\n",
      "[[8 3 6 1]\n",
      " [8 6 9 7]\n",
      " [6 6 2 0]]\n"
     ]
    }
   ],
   "source": [
    "# 1.flatten是将数组转换为一维数组后，然后将这个拷贝返回去\n",
    "# 所以后续对这个返回值进行修改不会影响之前的数组\n",
    "a1 = np.random.randint(0,10,size=(3,4))\n",
    "print(a1)\n",
    "a2 = a1.flatten()\n",
    "print(a2)\n",
    "print(a1)"
   ]
  },
  {
   "cell_type": "code",
   "execution_count": 5,
   "id": "513674fd",
   "metadata": {},
   "outputs": [
    {
     "name": "stdout",
     "output_type": "stream",
     "text": [
      "8\n"
     ]
    }
   ],
   "source": [
    "a2[0] = 88\n",
    "print(a1[0,0])"
   ]
  },
  {
   "cell_type": "code",
   "execution_count": 6,
   "id": "e6392048",
   "metadata": {},
   "outputs": [
    {
     "name": "stdout",
     "output_type": "stream",
     "text": [
      "88\n"
     ]
    }
   ],
   "source": [
    "# 2.ravel是将数组转换为一维数组后，将这个视图（可以理解为引用）返回回去\n",
    "# 所以后续对这个返回值进行修改会影响之前的数组\n",
    "a3 = a1.ravel()\n",
    "a3[0] = 88\n",
    "print(a1[0,0])"
   ]
  },
  {
   "cell_type": "markdown",
   "id": "3d77efe4",
   "metadata": {},
   "source": [
    "# 数组的形状改变\n",
    "1.reshape和resize都是重新定义形状的。但是reshape不会修改数组本身，而是将修改后的结果返回回去，而resize是直接修改数组  \n",
    "2.flatten和ravel都是用来将数组边成一维数组的，并且他们都不会对原数组造成修改，但是flatten返回的是一个拷贝，所以对flatten的返回值的修改不会影响到原来数组，而ravel返回的是一个View，那么对返回值的修改会影响到原来数组的值。"
   ]
  }
 ],
 "metadata": {
  "kernelspec": {
   "display_name": "Python 3 (ipykernel)",
   "language": "python",
   "name": "python3"
  },
  "language_info": {
   "codemirror_mode": {
    "name": "ipython",
    "version": 3
   },
   "file_extension": ".py",
   "mimetype": "text/x-python",
   "name": "python",
   "nbconvert_exporter": "python",
   "pygments_lexer": "ipython3",
   "version": "3.8.10"
  }
 },
 "nbformat": 4,
 "nbformat_minor": 5
}
